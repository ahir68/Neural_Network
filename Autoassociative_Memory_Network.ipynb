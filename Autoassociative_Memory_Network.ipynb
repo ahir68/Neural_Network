{
  "nbformat": 4,
  "nbformat_minor": 0,
  "metadata": {
    "colab": {
      "provenance": []
    },
    "kernelspec": {
      "name": "python3",
      "display_name": "Python 3"
    },
    "language_info": {
      "name": "python"
    }
  },
  "cells": [
    {
      "cell_type": "markdown",
      "source": [
        "<h2>Input And Output Vector Initialization</h2>\n"
      ],
      "metadata": {
        "id": "FKF3MBKRWSXJ"
      }
    },
    {
      "cell_type": "code",
      "execution_count": null,
      "metadata": {
        "id": "BqHbC3QZUx16"
      },
      "outputs": [],
      "source": [
        "    s1=[1,0,1,0]\n",
        "    s2=[1,0,0,1]\n",
        "    s3=[1,1,0,0]\n",
        "    s4=[0,0,1,1,]\n",
        "    input_vector = [[1, 0, 1, 0], [1, 0, 0, 1], [1, 1, 0, 0], [0, 0, 1, 1]]\n",
        "    n = len(input_vector)\n",
        "    output_vector = [[1, 0], [1, 0], [0, 1], [0, 1]]\n",
        "    m = len(output_vector[0])\n"
      ]
    },
    {
      "cell_type": "markdown",
      "source": [
        "<h2>Weight Matrix Calculation And Training The Network\n",
        "</h2>"
      ],
      "metadata": {
        "id": "RyV5IT-Nk2px"
      }
    },
    {
      "cell_type": "code",
      "source": [
        "    weights = [[0 for j in range(n)] for i in range(m)]\n",
        "    for k in range (n):\n",
        "        for i in range(m):\n",
        "            for j in range(n):\n",
        "                #print(f'w{j + 1}{i + 1} =', weights[i][j])\n",
        "                weights[i][j]=weights[i][j]+input_vector[k][j]*output_vector[k][i]\n",
        "                #print(weights[i][j])"
      ],
      "metadata": {
        "id": "CGu2mrnTk9h3"
      },
      "execution_count": null,
      "outputs": []
    },
    {
      "cell_type": "markdown",
      "source": [
        "<h2>Updated Weight Matrix</h2>"
      ],
      "metadata": {
        "id": "WPstnmlSlEQ4"
      }
    },
    {
      "cell_type": "code",
      "source": [
        "    for i in range(m):\n",
        "        for j in range(n):\n",
        "            print(f'w{j + 1}{i + 1} =', weights[i][j])"
      ],
      "metadata": {
        "colab": {
          "base_uri": "https://localhost:8080/"
        },
        "id": "8ONy23BflNHq",
        "outputId": "f72d5444-d542-42be-bb5f-ba3d8d74e18f"
      },
      "execution_count": null,
      "outputs": [
        {
          "output_type": "stream",
          "name": "stdout",
          "text": [
            "w11 = 2\n",
            "w21 = 0\n",
            "w31 = 1\n",
            "w41 = 1\n",
            "w12 = 1\n",
            "w22 = 1\n",
            "w32 = 1\n",
            "w42 = 1\n"
          ]
        }
      ]
    },
    {
      "cell_type": "markdown",
      "source": [
        "<h2>Testing the Network\n",
        "</h2>"
      ],
      "metadata": {
        "id": "P8IpEZagoNH5"
      }
    },
    {
      "cell_type": "code",
      "source": [
        "    testing_vector=[[1,0,1,0],[1,0,0,1]]\n",
        "    result_of_test_vector=[[\"\",\"\"], [\"\",\"\"]]\n",
        "    l=len(testing_vector)\n",
        "    for k in range (l):\n",
        "        for i in range(m):\n",
        "            test_out=0\n",
        "            for j in range(n):\n",
        "                test_out=test_out+(testing_vector[k][i]*weights[i][j])\n",
        "            ## Heib Rule\n",
        "            if(test_out>0):\n",
        "                result_of_test_vector[k][i]=result_of_test_vector[k][i]+\"1\"\n",
        "            else :\n",
        "                result_of_test_vector[k][i]=result_of_test_vector[k][i]+\"0\"\n"
      ],
      "metadata": {
        "id": "TjZDQLsIlgIB"
      },
      "execution_count": null,
      "outputs": []
    },
    {
      "cell_type": "markdown",
      "source": [
        "<h2>Result of output vectors\n",
        "</h2>"
      ],
      "metadata": {
        "id": "urXud6sUw149"
      }
    },
    {
      "cell_type": "code",
      "source": [
        "    for k in range (2):\n",
        "        for i in range(m):\n",
        "            print(f'result_of_test_vector {k} {i} =',result_of_test_vector[k][i])"
      ],
      "metadata": {
        "colab": {
          "base_uri": "https://localhost:8080/"
        },
        "id": "Cq6yWjejw1Te",
        "outputId": "8a26d013-191e-427d-9d93-c52e4c77d042"
      },
      "execution_count": null,
      "outputs": [
        {
          "output_type": "stream",
          "name": "stdout",
          "text": [
            "result_of_test_vector 0 0 = 1\n",
            "result_of_test_vector 0 1 = 0\n",
            "result_of_test_vector 1 0 = 1\n",
            "result_of_test_vector 1 1 = 0\n"
          ]
        }
      ]
    }
  ]
}