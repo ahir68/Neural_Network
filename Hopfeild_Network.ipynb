{
  "nbformat": 4,
  "nbformat_minor": 0,
  "metadata": {
    "colab": {
      "provenance": []
    },
    "kernelspec": {
      "name": "python3",
      "display_name": "Python 3"
    },
    "language_info": {
      "name": "python"
    }
  },
  "cells": [
    {
      "cell_type": "markdown",
      "source": [
        "#Find the weight matrix required to store the vectors [1,1,-1,-1], [−1,1,1,-1] and [ -1,1,-1,1] into W1,W2,W3 respectively. Calculate the total weight matrix to store all the vector and check whether it is capable of recognizing the same vectors presented. Let the weight matrix be with no self-connection."
      ],
      "metadata": {
        "id": "Yy-jgxYGyZXS"
      }
    },
    {
      "cell_type": "code",
      "source": [
        "input_matrix = [[1, 1, -1, -1], [-1, 1, 1, -1], [-1, 1, -1, 1]]\n",
        "rows = len(input_matrix)\n",
        "\n",
        "columns = len(input_matrix[0])\n",
        "\n",
        "transpose_of_input = [[0] * rows for _ in range(columns)]\n",
        "\n",
        "for i in range(rows):\n",
        "    for j in range(columns):\n",
        "        transpose_of_input[j][i] = input_matrix[i][j]\n",
        "\n",
        "#print(transpose_of_input)"
      ],
      "metadata": {
        "id": "MO7z8iYbv8lD"
      },
      "execution_count": null,
      "outputs": []
    },
    {
      "cell_type": "markdown",
      "source": [
        "#weight matrix calculation"
      ],
      "metadata": {
        "id": "QQuJaSyG0VBF"
      }
    },
    {
      "cell_type": "code",
      "source": [
        "#weight matrix calculation #wij= Σ s^t(p) *s(p) where t is transpose, when input vetor are the bipolar\n",
        "# Weight matrix calculation\n",
        "row = len(transpose_of_input)\n",
        "column = len(input_matrix[0])\n",
        "weight_matrix = [[0] * row for _ in range(column)]\n",
        "#print(weight_matrix)\n",
        "\n",
        "for k in range(rows):\n",
        "    for i in range(row):\n",
        "        for j in range(column):\n",
        "            weight_matrix[i][j] = weight_matrix[i][j] + transpose_of_input[i][k] * input_matrix[k][j]\n",
        "            if i==j:\n",
        "              weight_matrix[i][j]=0\n",
        "\n",
        "    #print(weight_matrix)\n",
        "\n",
        "print(weight_matrix)"
      ],
      "metadata": {
        "colab": {
          "base_uri": "https://localhost:8080/"
        },
        "id": "WGJCjbhcpkO3",
        "outputId": "a1e475a1-aa86-444f-d94d-7170c01597d7"
      },
      "execution_count": null,
      "outputs": [
        {
          "output_type": "stream",
          "name": "stdout",
          "text": [
            "[[0, -1, -1, -1], [-1, 0, -1, -1], [-1, -1, 0, -1], [-1, -1, -1, 0]]\n"
          ]
        }
      ]
    },
    {
      "cell_type": "markdown",
      "source": [
        "#testing the given input vectors\n"
      ],
      "metadata": {
        "id": "iaxLnIJp0h_1"
      }
    },
    {
      "cell_type": "code",
      "source": [
        "#yin =input*weight is equal to the given input then we said it is cable to recognizing the same vectors\n",
        "\n",
        "'''\n",
        "    [[0, -1, -1, -1]\n",
        "W =  [-1, 0, -1, -1]\n",
        "     [-1, -1, 0, -1]\n",
        "     [-1, -1, -1, 0]]\n",
        "\n",
        "                 [\n",
        "                    [1, 1, -1, -1]\n",
        "input_vectors=      [-1, 1, 1, -1]\n",
        "                    [-1, 1, -1, 1]\n",
        "                 ]\n",
        "\n",
        "'''\n",
        "l=len(weight_matrix)\n",
        "yin =[0]*l\n",
        "\n",
        "#print(l)\n",
        "for k in range(len(input_matrix)):\n",
        "  yin =[]\n",
        "  print(f'input vector {k+1} is ')\n",
        "  for j in range(l):\n",
        "      temp=0\n",
        "      for i in range(l):\n",
        "        temp=temp+input_matrix[k][i]*weight_matrix[j][i]\n",
        "      #print(temp)\n",
        "      #heib rule\n",
        "      if temp>0:\n",
        "        yin.append(1)\n",
        "      else :\n",
        "        yin.append(-1)\n",
        "\n",
        "  if input_matrix[k]==yin:\n",
        "    print(\"recognizing\")\n",
        "  else :\n",
        "    print(\"Not recognizing\")\n",
        "\n",
        "  print()\n",
        "\n"
      ],
      "metadata": {
        "colab": {
          "base_uri": "https://localhost:8080/"
        },
        "id": "RfkLxtmuv4hh",
        "outputId": "0a75cdad-3fc7-4e53-bbc9-9bdf5fcc9a9c"
      },
      "execution_count": null,
      "outputs": [
        {
          "output_type": "stream",
          "name": "stdout",
          "text": [
            "input vector 1 is \n",
            "recognizing\n",
            "\n",
            "input vector 2 is \n",
            "recognizing\n",
            "\n",
            "input vector 3 is \n",
            "recognizing\n",
            "\n"
          ]
        }
      ]
    }
  ]
}