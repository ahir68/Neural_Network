{
  "nbformat": 4,
  "nbformat_minor": 0,
  "metadata": {
    "colab": {
      "provenance": []
    },
    "kernelspec": {
      "name": "python3",
      "display_name": "Python 3"
    },
    "language_info": {
      "name": "python"
    }
  },
  "cells": [
    {
      "cell_type": "markdown",
      "source": [
        "#Construct an autoassociative network to store the vectors x1 =[1,1,1,1,1],x2=[1,-1,-1,1,-1], x3=[-1,1,-1,-1,-1]. Find weight matrix with no self-connection.Calculate the energy of the stored patterns. Using discrete Hopfield network test patterns if the test pattern are given as x1 =[1,1,1,-1,1],x2 =[1,-1,-1,-1,-1] and x3 =[1,1,-1,-1,-1]. Compare the test patterns energy with the stored patterns energy."
      ],
      "metadata": {
        "id": "28VGfQyCIhKN"
      }
    },
    {
      "cell_type": "code",
      "source": [
        "    input_matrix = [[1,1,1,1,1], [1,-1,-1,1,-1], [-1,1,-1,-1,-1]] #pattern\n",
        "    rows = len(input_matrix)\n",
        "    print(\"input : \",input_matrix )\n",
        "    columns = len(input_matrix[0])\n",
        "    transpose_of_input = [[0] * rows for _ in range(columns)]\n",
        "    for i in range(rows):\n",
        "        for j in range(columns):\n",
        "            transpose_of_input[j][i] = input_matrix[i][j]\n",
        "\n",
        "    print(transpose_of_input)"
      ],
      "metadata": {
        "colab": {
          "base_uri": "https://localhost:8080/"
        },
        "id": "Y08oL5R3hgHm",
        "outputId": "e7f27603-d41e-4cd8-fb75-d21edcd8c2e6"
      },
      "execution_count": null,
      "outputs": [
        {
          "output_type": "stream",
          "name": "stdout",
          "text": [
            "input :  [[1, 1, 1, 1, 1], [1, -1, -1, 1, -1], [-1, 1, -1, -1, -1]]\n",
            "[[1, 1, -1], [1, -1, 1], [1, -1, -1], [1, 1, -1], [1, -1, -1]]\n"
          ]
        }
      ]
    },
    {
      "cell_type": "code",
      "source": [
        "    #weight matrix calculation #wij= Σ s^t(p) *s(p) where t is transpose, when input vetor are the bipolar\n",
        "    # Weight matrix calculation\n",
        "    row = len(transpose_of_input)\n",
        "    column = len(input_matrix[0])\n",
        "    weight_matrix = [[0] * row for _ in range(column)]\n",
        "    #print(weight_matrix)\n",
        "\n",
        "    for k in range(rows):\n",
        "        for i in range(row):\n",
        "            for j in range(column):\n",
        "                weight_matrix[i][j] = weight_matrix[i][j] + transpose_of_input[i][k] * input_matrix[k][j]\n",
        "                if i==j:\n",
        "                  weight_matrix[i][j]=0\n",
        "\n",
        "        #print(weight_matrix)\n",
        "\n",
        "    print(weight_matrix)"
      ],
      "metadata": {
        "colab": {
          "base_uri": "https://localhost:8080/"
        },
        "id": "my5TkW6HhqSv",
        "outputId": "fa6305ed-f74c-471f-8747-edb0c104eccb"
      },
      "execution_count": null,
      "outputs": [
        {
          "output_type": "stream",
          "name": "stdout",
          "text": [
            "[[0, -1, 1, 3, 1], [-1, 0, 1, -1, 1], [1, 1, 0, 1, 3], [3, -1, 1, 0, 1], [1, 1, 3, 1, 0]]\n"
          ]
        }
      ]
    },
    {
      "cell_type": "markdown",
      "source": [
        "#The energy of the ith pattern is defined as\n",
        "\n"
      ],
      "metadata": {
        "id": "345WtDWFh4Jt"
      }
    },
    {
      "cell_type": "code",
      "source": [
        "    #0.5x.wt.xt\n",
        "    wtsr=len(weight_matrix)#number of rows in weight matrix\n",
        "    wtsc=len(weight_matrix[0]) #number of columns in weight matrix\n",
        "    for k in range(rows):\n",
        "        l = [[0] for _ in range(len(weight_matrix))]\n",
        "        lrow=len(l)\n",
        "        lcol=len(l[0])\n",
        "        #print(l)\n",
        "        for i in range(wtsr):\n",
        "            temp=0\n",
        "            for j in range(wtsr):\n",
        "                #print(f'W{i}{j} * {j}{k}')\n",
        "                temp=temp+weight_matrix[i][j]*transpose_of_input[j][k]   #W^T*X^T weight transpose *\n",
        "            #print(f'L{i}{k}')\n",
        "            l[i][lcol-1]=temp\n",
        "        #print(l) # l= W^T* X^T  E=0.5*X*l\n",
        "        sum=0\n",
        "        for j in range(wtsr):\n",
        "          #print(f'L{lcol-1}{j} == L{j}{lcol-1}')\n",
        "          sum=sum+input_matrix[k][j]*l[j][lcol-1]\n",
        "        print(f'The Energy of {k+1}st pattern is = ',(-1)*0.5*sum)"
      ],
      "metadata": {
        "colab": {
          "base_uri": "https://localhost:8080/"
        },
        "id": "701X5PXsh_TM",
        "outputId": "d221f58b-5a39-48ed-90fd-6e3d1d6c011c"
      },
      "execution_count": null,
      "outputs": [
        {
          "output_type": "stream",
          "name": "stdout",
          "text": [
            "The Energy of 1st pattern is =  -10.0\n",
            "The Energy of 2st pattern is =  -6.0\n",
            "The Energy of 3st pattern is =  -10.0\n"
          ]
        }
      ]
    },
    {
      "cell_type": "markdown",
      "source": [
        "#Energy function"
      ],
      "metadata": {
        "id": "nQR_gKXDHZPx"
      }
    },
    {
      "cell_type": "code",
      "source": [
        "    def calculate_energy(input_matrix1, weight_matrix1,transpose_of_input1):\n",
        "      energy=[]\n",
        "      wtsr=len(weight_matrix1)#number of rows in weight matrix\n",
        "      wtsc=len(weight_matrix1[0]) #number of columns in weight matrix\n",
        "      for k in range(rows):\n",
        "        l = [[0] for _ in range(len(weight_matrix1))]\n",
        "        lrow=len(l)\n",
        "        lcol=len(l[0])\n",
        "        #print(l)\n",
        "        for i in range(wtsr):\n",
        "            temp=0\n",
        "            for j in range(wtsr):\n",
        "                #print(f'W{i}{j} * {j}{k}')\n",
        "                temp=temp+weight_matrix1[i][j]*transpose_of_input1[j][k]   #W^T*X^T weight transpose *\n",
        "            #print(f'L{i}{k}')\n",
        "            l[i][lcol-1]=temp\n",
        "        #print(l) # l= W^T* X^T  E=0.5*X*l\n",
        "        sum=0\n",
        "        for j in range(wtsr):\n",
        "          #print(f'L{lcol-1}{j} == L{j}{lcol-1}')\n",
        "          sum=sum+input_matrix1[k][j]*l[j][lcol-1]\n",
        "        #print(f'The Energy of {k+1}st pattern is = ',(-1)*0.5*sum)\n",
        "        energy.append((-1)*0.5*sum)\n",
        "\n",
        "      return energy\n"
      ],
      "metadata": {
        "id": "hlj1yOmzChlv"
      },
      "execution_count": null,
      "outputs": []
    },
    {
      "cell_type": "markdown",
      "source": [
        "#The energy of the ith pattern is defined as"
      ],
      "metadata": {
        "id": "XQ_wrVgoHh_X"
      }
    },
    {
      "cell_type": "code",
      "source": [
        "    stored_energies = calculate_energy(input_matrix, weight_matrix,transpose_of_input)\n",
        "    print(stored_energies)"
      ],
      "metadata": {
        "colab": {
          "base_uri": "https://localhost:8080/"
        },
        "id": "LfF9vmTvHM-w",
        "outputId": "b569d3fb-f4c3-41bf-89da-ebc0c3ae7b37"
      },
      "execution_count": null,
      "outputs": [
        {
          "output_type": "stream",
          "name": "stdout",
          "text": [
            "[-10.0, -6.0, -10.0]\n"
          ]
        }
      ]
    },
    {
      "cell_type": "markdown",
      "source": [
        "#Function for how many units are be different"
      ],
      "metadata": {
        "id": "FeK8XAC0QcpK"
      }
    },
    {
      "cell_type": "code",
      "source": [
        "    def xor_cal(vect1,vect2):\n",
        "      count=0\n",
        "      val=-1\n",
        "      for i in range(len(vect1)):\n",
        "        if vect1[i]!=vect2[i]:\n",
        "          count=count+1\n",
        "          val=i\n",
        "\n",
        "      return count,val"
      ],
      "metadata": {
        "id": "iVbgUi5IP060"
      },
      "execution_count": null,
      "outputs": []
    },
    {
      "cell_type": "markdown",
      "source": [
        "#function for choosing the unit for updation"
      ],
      "metadata": {
        "id": "WPHOYxN4J1_q"
      }
    },
    {
      "cell_type": "code",
      "source": [
        "    def calculation_of_updation_unit(input_matrix1,testing_vectors1):\n",
        "      mini_xor=10\n",
        "      l=-1\n",
        "      r=-1\n",
        "      l_pair = [(-1,-1) for _ in range(len(testing_vectors1))]#pair_of_ {which input vector,which unit is different}\n",
        "      #print(l_pair)\n",
        "      for i in range(len(testing_vectors1)):\n",
        "        mini_xor=10\n",
        "        l=i\n",
        "        r=-1\n",
        "        for j in range(len(input_matrix1)):\n",
        "          temp=xor_cal(testing_vectors1[i],input_matrix[j])\n",
        "          if mini_xor>temp[0]:\n",
        "            mini_xor=temp[0]\n",
        "            r=temp[1]\n",
        "            #print(l,r)\n",
        "        #print(mini_xor)\n",
        "        l_pair[i]=(l,r)\n",
        "      #print(l_pair)\n",
        "      return l_pair\n"
      ],
      "metadata": {
        "id": "eeINrlfaJ0Nd"
      },
      "execution_count": null,
      "outputs": []
    },
    {
      "cell_type": "markdown",
      "source": [
        "#Testing the given test vectors\n"
      ],
      "metadata": {
        "id": "pfgVpSC3KD1s"
      }
    },
    {
      "cell_type": "code",
      "source": [
        "    testing_vectors=[[1,1,1,-1,1],[1,-1,-1,-1,-1],[1,1,-1,-1,-1]]\n",
        "    #input_matrix = [[1,1,1,1,1], [1,-1,-1,1,-1], [-1,1,-1,-1,-1]]\n",
        "    updated=calculation_of_updation_unit(input_matrix,testing_vectors)\n",
        "    print(updated)\n"
      ],
      "metadata": {
        "colab": {
          "base_uri": "https://localhost:8080/"
        },
        "id": "NRA_93LlHsdU",
        "outputId": "7213f692-cee8-4457-e159-168098442555"
      },
      "execution_count": null,
      "outputs": [
        {
          "output_type": "stream",
          "name": "stdout",
          "text": [
            "[(0, 3), (1, 3), (2, 0)]\n"
          ]
        }
      ]
    },
    {
      "cell_type": "markdown",
      "source": [
        "#convergence function for converge the test vector && gradient descent"
      ],
      "metadata": {
        "id": "g3DOMotSqq9t"
      }
    },
    {
      "cell_type": "code",
      "source": [
        "    def convergence(index,unit,converge,weight):\n",
        "      row=len(weight)\n",
        "      yin=converge[index][unit]\n",
        "      #print(vectors[index][unit])\n",
        "\n",
        "      for i in range(row):\n",
        "        #print(f'I{pattern}{i} * weight{i}{unit}')\n",
        "        yin=yin+converge[pattern][i]*weight[i][unit]\n",
        "\n",
        "      #applying Activation function\n",
        "      #print(yin)\n",
        "      if(yin>0):\n",
        "        converge[index][unit]=1\n",
        "      else:\n",
        "        converge[index][unit]=-1"
      ],
      "metadata": {
        "id": "h1YZ8sX9qqIt"
      },
      "execution_count": null,
      "outputs": []
    },
    {
      "cell_type": "markdown",
      "source": [
        "#choosing unit for updating the testing vector when stored energy is not equal to test vector energy\n",
        "\n",
        "yin=x+∑yin*W"
      ],
      "metadata": {
        "id": "ENwmmJRchnKZ"
      }
    },
    {
      "cell_type": "code",
      "source": [
        "    #print(weight_matrix)\n",
        "    #print(updated)\n",
        "    '''\n",
        "    [[0, -1, 1, 3, 1],\n",
        "    [-1, 0, 1, -1, 1],\n",
        "    [1, 1, 0, 1, 3],\n",
        "    [3, -1, 1, 0, 1],\n",
        "    [1, 1, 3, 1, 0]]\n",
        "    '''\n",
        "    converge =testing_vectors\n",
        "\n",
        "\n",
        "\n",
        "\n",
        "\n",
        "\n",
        "\n",
        "\n",
        "\n",
        "    #energies=calculate_energy(converge,weight_matrix,transpose_of_input)\n",
        "    #print(energies)\n",
        "    count=0\n",
        "    while count<len(updated):\n",
        "      print()\n",
        "      for tuple_element in updated:\n",
        "        pattern, diff = tuple_element\n",
        "        test_energy=calculate_energy(converge,weight_matrix,transpose_of_input)\n",
        "        if test_energy[pattern] !=stored_energies[pattern]:\n",
        "          print(f'convergence is required because of energy of test pattern {pattern+1} is {test_energy[pattern]} not equal to stored pattern energy is {stored_energies[pattern]}')\n",
        "          convergence(pattern,diff,converge,weight_matrix)\n",
        "          #print(converge)\n",
        "        else:\n",
        "          print(f'energy of test pattern {pattern+1} is {test_energy[pattern]} converge to stored pattern energy {stored_energies[pattern]}')\n",
        "          print(converge)\n",
        "          count=count+1"
      ],
      "metadata": {
        "colab": {
          "base_uri": "https://localhost:8080/"
        },
        "id": "8X71TcYmHsGA",
        "outputId": "e7dd1f37-f704-48be-c5e2-e42cffa5f5e4"
      },
      "execution_count": null,
      "outputs": [
        {
          "output_type": "stream",
          "name": "stdout",
          "text": [
            "\n",
            "convergence is required because of energy of test pattern 1 is -6.0 not equal to stored pattern energy is -10.0\n",
            "convergence is required because of energy of test pattern 2 is -4.0 not equal to stored pattern energy is -6.0\n",
            "convergence is required because of energy of test pattern 3 is -4.0 not equal to stored pattern energy is -10.0\n",
            "\n",
            "energy of test pattern 1 is -10.0 converge to stored pattern energy -10.0\n",
            "[[1, 1, 1, 1, 1], [1, -1, -1, 1, -1], [-1, 1, -1, -1, -1]]\n",
            "energy of test pattern 2 is -6.0 converge to stored pattern energy -6.0\n",
            "[[1, 1, 1, 1, 1], [1, -1, -1, 1, -1], [-1, 1, -1, -1, -1]]\n",
            "energy of test pattern 3 is -10.0 converge to stored pattern energy -10.0\n",
            "[[1, 1, 1, 1, 1], [1, -1, -1, 1, -1], [-1, 1, -1, -1, -1]]\n"
          ]
        }
      ]
    }
  ]
}