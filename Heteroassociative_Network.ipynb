{
  "nbformat": 4,
  "nbformat_minor": 0,
  "metadata": {
    "colab": {
      "provenance": []
    },
    "kernelspec": {
      "name": "python3",
      "display_name": "Python 3"
    },
    "language_info": {
      "name": "python"
    }
  },
  "cells": [
    {
      "cell_type": "markdown",
      "source": [
        "#Train a heteroassociative network to store the given bipolar input vectors s = ( s1,s2,s3,s4) to the output vector t  = ( t1,t2).The bipolar vector pairs are as given in\n"
      ],
      "metadata": {
        "id": "nLrEb2dtIMy_"
      }
    },
    {
      "cell_type": "code",
      "execution_count": null,
      "metadata": {
        "id": "0DjD-OYqHqiq"
      },
      "outputs": [],
      "source": [
        "input_vector = [[1,-1, -1,-1], [1, 1, -1, -1], [-1, -1, -1, 1], [-1, -1, 1, 1]]\n",
        "n = len(input_vector)\n",
        "output_vector = [[-1,1], [-1, 1], [1, -1], [1, -1]]\n",
        "m = len(output_vector[0])"
      ]
    },
    {
      "cell_type": "markdown",
      "source": [
        "#Outer Products Rule And Training The Network"
      ],
      "metadata": {
        "id": "MA6K8BsCVKd0"
      }
    },
    {
      "cell_type": "code",
      "source": [
        "weights = [[0 for j in range(n)] for i in range(m)]\n",
        "for k in range (n):\n",
        "    for i in range(m):\n",
        "         for j in range(n):\n",
        "             weights[i][j]=weights[i][j]+input_vector[k][j]*output_vector[k][i]\n"
      ],
      "metadata": {
        "id": "j6vZOlliK0xo"
      },
      "execution_count": null,
      "outputs": []
    },
    {
      "cell_type": "code",
      "source": [
        "for i in range(m):\n",
        "    for j in range(n):\n",
        "         print(f'w{j + 1}{i + 1} =', weights[i][j])"
      ],
      "metadata": {
        "colab": {
          "base_uri": "https://localhost:8080/"
        },
        "id": "e8IlhGj9LXiX",
        "outputId": "0edb7195-7636-467c-a9e6-fd7da54822dd"
      },
      "execution_count": null,
      "outputs": [
        {
          "output_type": "stream",
          "name": "stdout",
          "text": [
            "w11 = -4\n",
            "w21 = -2\n",
            "w31 = 2\n",
            "w41 = 4\n",
            "w12 = 4\n",
            "w22 = 2\n",
            "w32 = -2\n",
            "w42 = -4\n"
          ]
        }
      ]
    },
    {
      "cell_type": "markdown",
      "source": [
        "#Testing the new input vector"
      ],
      "metadata": {
        "id": "66i2s2ylWLcX"
      }
    },
    {
      "cell_type": "code",
      "source": [
        "testing_vector=[[0,1,0,-1],[-1,1,1,-1]]\n",
        "result_of_test_vector=[[0,0], [0,0]]\n",
        "l=len(testing_vector[0])\n",
        "b=len(result_of_test_vector[0])\n",
        "for k in range(len(testing_vector)):\n",
        "  for i in range(b):\n",
        "    temp=0\n",
        "    for j in range(l):\n",
        "         temp=temp+testing_vector[k][j]*weights[i][j]\n",
        "\n",
        "    #print(temp)\n",
        "    if(temp>0):\n",
        "       result_of_test_vector[k][i]= result_of_test_vector[k][i]+1\n",
        "    elif(temp<0) :\n",
        "      result_of_test_vector[k][i]= result_of_test_vector[k][i]-1"
      ],
      "metadata": {
        "id": "hSB9qkl9L2ek"
      },
      "execution_count": null,
      "outputs": []
    },
    {
      "cell_type": "markdown",
      "source": [
        "#output of the testing vector"
      ],
      "metadata": {
        "id": "nqeA-BuzWR4n"
      }
    },
    {
      "cell_type": "code",
      "source": [
        "for k in range (2):\n",
        "   for i in range(m):\n",
        "       print(f'result_of_test_vector t{k}{i} =',result_of_test_vector[k][i])"
      ],
      "metadata": {
        "colab": {
          "base_uri": "https://localhost:8080/"
        },
        "id": "E8ebxaESUwJy",
        "outputId": "6e3be49e-6360-473c-c988-675b193ce58d"
      },
      "execution_count": null,
      "outputs": [
        {
          "output_type": "stream",
          "name": "stdout",
          "text": [
            "result_of_test_vector t00 = -1\n",
            "result_of_test_vector t01 = 1\n",
            "result_of_test_vector t10 = 0\n",
            "result_of_test_vector t11 = 0\n"
          ]
        }
      ]
    }
  ]
}