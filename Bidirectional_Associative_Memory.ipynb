{
  "nbformat": 4,
  "nbformat_minor": 0,
  "metadata": {
    "colab": {
      "provenance": []
    },
    "kernelspec": {
      "name": "python3",
      "display_name": "Python 3"
    },
    "language_info": {
      "name": "python"
    }
  },
  "cells": [
    {
      "cell_type": "markdown",
      "source": [
        "#Layer X as Input Layer"
      ],
      "metadata": {
        "id": "OaPyYQAoyNkQ"
      }
    },
    {
      "cell_type": "code",
      "execution_count": null,
      "metadata": {
        "colab": {
          "base_uri": "https://localhost:8080/"
        },
        "id": "gQ-jKZa2cvB7",
        "outputId": "670298e5-96c2-4e3c-d3ba-6c448e984bbf"
      },
      "outputs": [
        {
          "output_type": "stream",
          "name": "stdout",
          "text": [
            "input  [[1, 1, 1, 1, -1, -1, 1, 1, 1, 1, -1, -1, 1, 1, 1], [1, 1, 1, 1, 1, 1, 1, -1, -1, 1, -1, -1, 1, -1, -1]]\n"
          ]
        }
      ],
      "source": [
        "    input=[[1,1,1,1,-1,-1,1, 1, 1,1,-1,-1,1, 1, 1],[1,1,1,1, 1, 1,1,-1,-1,1,-1,-1,1,-1,-1]]\n",
        "    output=[[-1,1],[1,1]]\n",
        "    rows=len(input)\n",
        "    #print(rows)\n",
        "    columns=len(input[0])\n",
        "    #print(columns)\n",
        "    transpose_of_input = [[0] * rows for _ in range(columns)]\n",
        "    for i in range(rows):\n",
        "          for j in range(columns):\n",
        "              transpose_of_input[j][i] = input[i][j]\n",
        "\n",
        "    #print(transpose_of_input)\n",
        "    print(\"input \",input)"
      ]
    },
    {
      "cell_type": "markdown",
      "source": [
        "#weight matrix calculations at layer X, W=∑S(p)^t*T(p) where input is bipolar\n"
      ],
      "metadata": {
        "id": "VGkaoHwbicWj"
      }
    },
    {
      "cell_type": "code",
      "source": [
        "    #weight matrix calculation #wij= Σ s^t(p) *s(p) where t is transpose, when input vetor are the bipolar\n",
        "    # Weight matrix calculation\n",
        "\n",
        "    weight_matrix = [[0] * rows for _ in range(columns)]\n",
        "    #print(weight_matrix)\n",
        "\n",
        "    for k in range(rows):\n",
        "      for i in range(rows):\n",
        "        for j in range(columns):\n",
        "            #print(f'weight_matrix{j}{i}=transpose_of_input{j}{k},output{k}{i}',transpose_of_input[j][k]*output[0][i])\n",
        "            weight_matrix[j][i] = weight_matrix[j][i] + transpose_of_input[j][k] * output[k][i]\n",
        "\n",
        "    print(\"weight Matrix\",weight_matrix)"
      ],
      "metadata": {
        "colab": {
          "base_uri": "https://localhost:8080/"
        },
        "id": "QhUtS802iy8l",
        "outputId": "0b3036a8-2e4c-4f34-b258-87662321bcb5"
      },
      "execution_count": null,
      "outputs": [
        {
          "output_type": "stream",
          "name": "stdout",
          "text": [
            "weight Matrix [[0, 2], [0, 2], [0, 2], [0, 2], [2, 0], [2, 0], [0, 2], [-2, 0], [-2, 0], [0, 2], [0, -2], [0, -2], [0, 2], [-2, 0], [-2, 0]]\n"
          ]
        }
      ]
    },
    {
      "cell_type": "markdown",
      "source": [
        "#testing the input at layer X"
      ],
      "metadata": {
        "id": "53DwFmoDtBbN"
      }
    },
    {
      "cell_type": "code",
      "source": [
        "    for k in range(rows):\n",
        "      l=[]\n",
        "      print(f\"Test Pattern {chr(69+k)} is Applying....\")\n",
        "      for i in range(rows):\n",
        "          temp=0\n",
        "          for j in range(columns):\n",
        "              #print(f'W{k}{j} * {j}{i}')\n",
        "              temp=temp+input[k][j]*weight_matrix[j][i]\n",
        "\n",
        "          #print(temp)\n",
        "          # Apply Activation function\n",
        "          if temp>0:\n",
        "            l.append(1)\n",
        "          else :\n",
        "            l.append(-1)\n",
        "\n",
        "      if l==output[k]:\n",
        "        print(\"Matching.\")\n",
        "      else:\n",
        "        print(\"Not Matching.\")"
      ],
      "metadata": {
        "colab": {
          "base_uri": "https://localhost:8080/"
        },
        "id": "K36QbH-ttBHQ",
        "outputId": "65083292-793f-4c21-c0f1-e358a563687b"
      },
      "execution_count": null,
      "outputs": [
        {
          "output_type": "stream",
          "name": "stdout",
          "text": [
            "Test Pattern E is Applying....\n",
            "Matching.\n",
            "Test Pattern F is Applying....\n",
            "Matching.\n"
          ]
        }
      ]
    },
    {
      "cell_type": "markdown",
      "source": [
        "#weight matrix calculations for layer Y ,and we knows that it is just a transpose of calculated weight matrix"
      ],
      "metadata": {
        "id": "EmqufCWPyJ2C"
      }
    },
    {
      "cell_type": "code",
      "source": [
        "    wrow=len(weight_matrix)\n",
        "    #print(wrow)\n",
        "    wcol=len(weight_matrix[0])\n",
        "    #print(wcol)\n",
        "    transpose_of_weight_matrix = [[0] * wrow for _ in range(wcol)]\n",
        "    for i in range(wrow):\n",
        "        for j in range(wcol):\n",
        "            transpose_of_weight_matrix[j][i] = weight_matrix[i][j]\n",
        "\n",
        "    print(\"Weight Matrix \",transpose_of_weight_matrix)\n"
      ],
      "metadata": {
        "colab": {
          "base_uri": "https://localhost:8080/"
        },
        "id": "KTwP-9elybbs",
        "outputId": "1eac9cf6-1b97-4c33-f932-d0c955cd83c3"
      },
      "execution_count": null,
      "outputs": [
        {
          "output_type": "stream",
          "name": "stdout",
          "text": [
            "Weight Matrix  [[0, 0, 0, 0, 2, 2, 0, -2, -2, 0, 0, 0, 0, -2, -2], [2, 2, 2, 2, 0, 0, 2, 0, 0, 2, -2, -2, 2, 0, 0]]\n"
          ]
        }
      ]
    },
    {
      "cell_type": "code",
      "source": [
        "\n",
        "\n",
        "\n",
        "\n",
        "\n",
        "\n"
      ],
      "metadata": {
        "id": "0UflVfXM8vcb"
      },
      "execution_count": null,
      "outputs": []
    },
    {
      "cell_type": "markdown",
      "source": [
        "#Testing the input At layer Y"
      ],
      "metadata": {
        "id": "La9xMFb_0Lju"
      }
    },
    {
      "cell_type": "code",
      "source": [
        "    for k in range(wcol):\n",
        "      l=[]\n",
        "      print(f\"Test Pattern {chr(69+k)} is Applying....\")\n",
        "      for i in range(wrow):\n",
        "          temp=0\n",
        "          for j in range(wcol):\n",
        "              #print(f'W{k}{j} * {j}{i}')\n",
        "              temp=temp+output[k][j]*transpose_of_weight_matrix[j][i]\n",
        "\n",
        "          #print(temp)\n",
        "          # Apply Activation function\n",
        "          if temp>0:\n",
        "            l.append(1)\n",
        "          else :\n",
        "            l.append(-1)\n",
        "\n",
        "      if l==input[k]:\n",
        "        print(\"Matching.\")\n",
        "      else:\n",
        "        print(\"Not Matching.\")\n"
      ],
      "metadata": {
        "colab": {
          "base_uri": "https://localhost:8080/"
        },
        "id": "vGCCJK2F0LJt",
        "outputId": "8252d1fb-4df2-47e9-8a6b-1144e8429213"
      },
      "execution_count": null,
      "outputs": [
        {
          "output_type": "stream",
          "name": "stdout",
          "text": [
            "Test Pattern E is Applying....\n",
            "Matching.\n",
            "Test Pattern F is Applying....\n",
            "Matching.\n"
          ]
        }
      ]
    }
  ]
}